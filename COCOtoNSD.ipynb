{
  "nbformat": 4,
  "nbformat_minor": 0,
  "metadata": {
    "colab": {
      "provenance": []
    },
    "kernelspec": {
      "name": "python3",
      "display_name": "Python 3"
    },
    "language_info": {
      "name": "python"
    },
    "gpuClass": "standard"
  },
  "cells": [
    {
      "cell_type": "markdown",
      "source": [
        "# Imports "
      ],
      "metadata": {
        "id": "VciP7YBAcxgW"
      }
    },
    {
      "cell_type": "code",
      "source": [
        "from google.colab import drive\n",
        "drive.mount('/content/drive', force_remount=True)"
      ],
      "metadata": {
        "colab": {
          "base_uri": "https://localhost:8080/"
        },
        "id": "m-4UZGdwcxRp",
        "outputId": "cb500da7-913e-4daa-89ce-69c71d53d8bb"
      },
      "execution_count": null,
      "outputs": [
        {
          "output_type": "stream",
          "name": "stdout",
          "text": [
            "Mounted at /content/drive\n"
          ]
        }
      ]
    },
    {
      "cell_type": "code",
      "execution_count": null,
      "metadata": {
        "id": "cPdjz-MRrL9U"
      },
      "outputs": [],
      "source": [
        "import numpy as np\n",
        "import pandas as pd\n",
        "import imageio\n",
        "import os\n",
        "import ast\n",
        "import sys\n",
        "\n",
        "import torch\n",
        "import torch.nn as nn\n",
        "from torch.utils.data import Dataset, DataLoader\n",
        "from torchvision.datasets import ImageFolder\n",
        "from torch.nn.parameter import Parameter\n",
        "import torchvision\n",
        "import numpy as np\n",
        "\n",
        "from torchvision import transforms\n",
        "\n",
        "\n",
        "val2017_dir = '/content/drive/MyDrive/Thesis/Data/COCO/val2017'\n",
        "train2017_dir = '/content/drive/MyDrive/Thesis/Data/COCO/train2017'\n",
        "anno2017_dir = '/content/drive/MyDrive/Thesis/Data/COCO/annotations_trainval2017'\n",
        "\n",
        "val2017 = 'val2017'\n",
        "train2017 = 'train2017'\n",
        "annFile = '/content/drive/MyDrive/Thesis/Data/COCO/annotations/instances_val2017.json'\n",
        "\n",
        "COCOtoCIFAR = {'airplane':'plane', 'car':'car', 'bird':'bird', 'cat':'cat', 'dog':'dog', 'horse':'horse', 'boat':'ship', 'truck':'truck'} "
      ]
    },
    {
      "cell_type": "code",
      "source": [
        "from pycocotools.coco import COCO\n",
        "import skimage.io as io\n",
        "import matplotlib.pyplot as plt\n",
        "import pylab\n",
        "pylab.rcParams['figure.figsize'] = (8.0, 10.0)\n",
        "\n",
        "coco=COCO(annFile)\n",
        "\n",
        "\n",
        "\n",
        "\n",
        "# for i in range(len(annos)):\n",
        "# \tentity_id = annos[i][\"category_id\"]\n",
        "# \tentity = coco.loadCats(entity_id)[0][\"name\"]\n",
        "# \tprint(True if (entity in classes) else False)\n",
        "# \tprint(\"{}: {}\".format(i, entity))\n",
        " \n",
        "# print([coco.loadCats(c[\"category_id\"])[0][\"name\"] for c in annos])\n",
        "\n",
        "# imgIds = coco.getImgIds(imgIds = [id])\n",
        "# img = coco.loadImgs(imgIds)[0]\n",
        "\n",
        "# I = io.imread(img['coco_url'])\n",
        "# plt.axis('off')\n",
        "# plt.imshow(I)\n",
        "# plt.show()\n",
        "\n",
        "def CIFARCheck(imgId, maxCat=5):\n",
        "\tannIds = coco.getAnnIds(imgIds=imgId)\n",
        "\tannos = coco.loadAnns(annIds)\n",
        "\tcats = [coco.loadCats(c[\"category_id\"])[0][\"name\"] for c in annos]\n",
        "\tif len(cats) < maxCat and bool(set(cats) & set(COCOtoCIFAR.keys())): \n",
        "\t\treturn list(set(cats) & set(COCOtoCIFAR.keys()))\n",
        "\telse:\n",
        "\t\treturn False\n",
        "\n"
      ],
      "metadata": {
        "id": "H51oykbWc30L",
        "colab": {
          "base_uri": "https://localhost:8080/"
        },
        "outputId": "00d7c23e-1ba0-4bb4-ad29-2cc2176ec3c2"
      },
      "execution_count": null,
      "outputs": [
        {
          "output_type": "stream",
          "name": "stdout",
          "text": [
            "loading annotations into memory...\n",
            "Done (t=3.14s)\n",
            "creating index...\n",
            "index created!\n"
          ]
        }
      ]
    },
    {
      "cell_type": "markdown",
      "source": [
        "# COCO to NSD"
      ],
      "metadata": {
        "id": "DZOxb0lxxlCt"
      }
    },
    {
      "cell_type": "code",
      "source": [
        "nsd = pd.read_csv('/content/drive/MyDrive/Thesis/Data/NSD/nsddata/experiments/nsd/nsd_stim_info_merged.csv', index_col=0)\n",
        "\n",
        "nsd_cifar = pd.DataFrame(columns=nsd.columns)\n",
        "nsd_cifar['class'] = np.nan\n",
        "\n",
        "found = []\n",
        "\n",
        "for index, row in nsd.iterrows():\n",
        "    cats = CIFARCheck(int(row['cocoId']), 2)\n",
        "    if cats is not False:\n",
        "        cats = [COCOtoCIFAR[c] for c in cats]\n",
        "        row['class'] = cats[0]\n",
        "        nsd_cifar = pd.concat([nsd_cifar,row.to_frame().T], ignore_index=True)\n",
        "\n",
        "        for cat in cats:\n",
        "            if cat not in found:\n",
        "                found.append(cat)\n",
        "                "
      ],
      "metadata": {
        "id": "VGzfXlSkxl-R"
      },
      "execution_count": null,
      "outputs": []
    },
    {
      "cell_type": "code",
      "source": [
        "nsd_cifar['class'].value_counts()"
      ],
      "metadata": {
        "colab": {
          "base_uri": "https://localhost:8080/"
        },
        "id": "E87udWHKyxb5",
        "outputId": "8c3c65f9-00c9-4abe-bfb0-51dd488e7b6f"
      },
      "execution_count": null,
      "outputs": [
        {
          "output_type": "execute_result",
          "data": {
            "text/plain": [
              "plane    33\n",
              "bird     26\n",
              "cat      17\n",
              "horse    14\n",
              "dog       9\n",
              "truck     6\n",
              "ship      6\n",
              "car       3\n",
              "Name: class, dtype: int64"
            ]
          },
          "metadata": {},
          "execution_count": 6
        }
      ]
    },
    {
      "cell_type": "code",
      "source": [
        "nsd_cifar.to_csv('/content/drive/MyDrive/Thesis/Data/NSD/nsd_coco_cifar_pre.csv',index=False)"
      ],
      "metadata": {
        "id": "xAy5Fe2DUlJX"
      },
      "execution_count": null,
      "outputs": []
    },
    {
      "cell_type": "code",
      "source": [],
      "metadata": {
        "id": "nNQ5I_CRWx8e"
      },
      "execution_count": null,
      "outputs": []
    },
    {
      "cell_type": "markdown",
      "source": [],
      "metadata": {
        "id": "L4E6P42CfsoI"
      }
    }
  ]
}