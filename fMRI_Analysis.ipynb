{
  "cells": [
    {
      "cell_type": "markdown",
      "metadata": {
        "id": "7d4QnH-Rg5kv"
      },
      "source": [
        "# Imports"
      ]
    },
    {
      "cell_type": "code",
      "execution_count": null,
      "metadata": {
        "colab": {
          "base_uri": "https://localhost:8080/"
        },
        "id": "TAqWF7Le4UGv",
        "outputId": "cb884130-18f7-41c1-917a-79b5fc65e2b8"
      },
      "outputs": [
        {
          "output_type": "stream",
          "name": "stdout",
          "text": [
            "Looking in indexes: https://pypi.org/simple, https://us-python.pkg.dev/colab-wheels/public/simple/\n",
            "Collecting scipy==1.7\n",
            "  Downloading scipy-1.7.0-cp39-cp39-manylinux_2_5_x86_64.manylinux1_x86_64.whl (28.4 MB)\n",
            "\u001b[2K     \u001b[90m━━━━━━━━━━━━━━━━━━━━━━━━━━━━━━━━━━━━━━━━\u001b[0m \u001b[32m28.4/28.4 MB\u001b[0m \u001b[31m34.3 MB/s\u001b[0m eta \u001b[36m0:00:00\u001b[0m\n",
            "\u001b[?25hRequirement already satisfied: numpy<1.23.0,>=1.16.5 in /usr/local/lib/python3.9/dist-packages (from scipy==1.7) (1.22.4)\n",
            "Installing collected packages: scipy\n",
            "  Attempting uninstall: scipy\n",
            "    Found existing installation: scipy 1.10.1\n",
            "    Uninstalling scipy-1.10.1:\n",
            "      Successfully uninstalled scipy-1.10.1\n",
            "\u001b[31mERROR: pip's dependency resolver does not currently take into account all the packages that are installed. This behaviour is the source of the following dependency conflicts.\n",
            "arviz 0.15.1 requires scipy>=1.8.0, but you have scipy 1.7.0 which is incompatible.\u001b[0m\u001b[31m\n",
            "\u001b[0mSuccessfully installed scipy-1.7.0\n"
          ]
        }
      ],
      "source": [
        "!pip install scipy==1.7"
      ]
    },
    {
      "cell_type": "code",
      "execution_count": null,
      "metadata": {
        "colab": {
          "base_uri": "https://localhost:8080/"
        },
        "id": "e_rRLxo4g89Z",
        "outputId": "887a24f4-746d-4a84-c69d-f0805dbddfee"
      },
      "outputs": [
        {
          "output_type": "stream",
          "name": "stdout",
          "text": [
            "Mounted at /content/drive\n"
          ]
        }
      ],
      "source": [
        "from google.colab import drive\n",
        "drive.mount('/content/drive', force_remount=True)"
      ]
    },
    {
      "cell_type": "code",
      "execution_count": null,
      "metadata": {
        "colab": {
          "base_uri": "https://localhost:8080/"
        },
        "id": "1_6RF6AYgu6B",
        "outputId": "fc89f216-0765-48d4-fe6b-08712699ac8d"
      },
      "outputs": [
        {
          "output_type": "stream",
          "name": "stdout",
          "text": [
            "\u001b[31mERROR: Operation cancelled by user\u001b[0m\u001b[31m\n",
            "\u001b[0mTraceback (most recent call last):\n",
            "  File \"/usr/local/lib/python3.9/dist-packages/pip/_internal/cli/base_command.py\", line 160, in exc_logging_wrapper\n",
            "    status = run_func(*args)\n",
            "  File \"/usr/local/lib/python3.9/dist-packages/pip/_internal/cli/req_command.py\", line 241, in wrapper\n",
            "    return func(self, options, args)\n",
            "  File \"/usr/local/lib/python3.9/dist-packages/pip/_internal/commands/install.py\", line 419, in run\n",
            "    requirement_set = resolver.resolve(\n",
            "  File \"/usr/local/lib/python3.9/dist-packages/pip/_internal/resolution/resolvelib/resolver.py\", line 73, in resolve\n",
            "    collected = self.factory.collect_root_requirements(root_reqs)\n",
            "  File \"/usr/local/lib/python3.9/dist-packages/pip/_internal/resolution/resolvelib/factory.py\", line 491, in collect_root_requirements\n",
            "    req = self._make_requirement_from_install_req(\n",
            "  File \"/usr/local/lib/python3.9/dist-packages/pip/_internal/resolution/resolvelib/factory.py\", line 453, in _make_requirement_from_install_req\n",
            "    cand = self._make_candidate_from_link(\n",
            "  File \"/usr/local/lib/python3.9/dist-packages/pip/_internal/resolution/resolvelib/factory.py\", line 206, in _make_candidate_from_link\n",
            "    self._link_candidate_cache[link] = LinkCandidate(\n",
            "  File \"/usr/local/lib/python3.9/dist-packages/pip/_internal/resolution/resolvelib/candidates.py\", line 297, in __init__\n",
            "    super().__init__(\n",
            "  File \"/usr/local/lib/python3.9/dist-packages/pip/_internal/resolution/resolvelib/candidates.py\", line 162, in __init__\n",
            "    self.dist = self._prepare()\n",
            "  File \"/usr/local/lib/python3.9/dist-packages/pip/_internal/resolution/resolvelib/candidates.py\", line 231, in _prepare\n",
            "    dist = self._prepare_distribution()\n",
            "  File \"/usr/local/lib/python3.9/dist-packages/pip/_internal/resolution/resolvelib/candidates.py\", line 308, in _prepare_distribution\n",
            "    return preparer.prepare_linked_requirement(self._ireq, parallel_builds=True)\n",
            "  File \"/usr/local/lib/python3.9/dist-packages/pip/_internal/operations/prepare.py\", line 491, in prepare_linked_requirement\n",
            "    return self._prepare_linked_requirement(req, parallel_builds)\n",
            "  File \"/usr/local/lib/python3.9/dist-packages/pip/_internal/operations/prepare.py\", line 536, in _prepare_linked_requirement\n",
            "    local_file = unpack_url(\n",
            "  File \"/usr/local/lib/python3.9/dist-packages/pip/_internal/operations/prepare.py\", line 155, in unpack_url\n",
            "    unpack_vcs_link(link, location, verbosity=verbosity)\n",
            "  File \"/usr/local/lib/python3.9/dist-packages/pip/_internal/operations/prepare.py\", line 78, in unpack_vcs_link\n",
            "    vcs_backend.unpack(location, url=hide_url(link.url), verbosity=verbosity)\n",
            "  File \"/usr/local/lib/python3.9/dist-packages/pip/_internal/vcs/versioncontrol.py\", line 608, in unpack\n",
            "    self.obtain(location, url=url, verbosity=verbosity)\n",
            "  File \"/usr/local/lib/python3.9/dist-packages/pip/_internal/vcs/versioncontrol.py\", line 521, in obtain\n",
            "    self.fetch_new(dest, url, rev_options, verbosity=verbosity)\n",
            "  File \"/usr/local/lib/python3.9/dist-packages/pip/_internal/vcs/git.py\", line 276, in fetch_new\n",
            "    self.run_command(\n",
            "  File \"/usr/local/lib/python3.9/dist-packages/pip/_internal/vcs/versioncontrol.py\", line 650, in run_command\n",
            "    return call_subprocess(\n",
            "  File \"/usr/local/lib/python3.9/dist-packages/pip/_internal/utils/subprocess.py\", line 166, in call_subprocess\n",
            "    line: str = proc.stdout.readline()\n",
            "  File \"/usr/lib/python3.9/codecs.py\", line 319, in decode\n",
            "    def decode(self, input, final=False):\n",
            "KeyboardInterrupt\n",
            "\n",
            "During handling of the above exception, another exception occurred:\n",
            "\n",
            "Traceback (most recent call last):\n",
            "  File \"/usr/local/bin/pip3\", line 8, in <module>\n",
            "    sys.exit(main())\n",
            "  File \"/usr/local/lib/python3.9/dist-packages/pip/_internal/cli/main.py\", line 70, in main\n",
            "    return command.main(cmd_args)\n",
            "  File \"/usr/local/lib/python3.9/dist-packages/pip/_internal/cli/base_command.py\", line 101, in main\n",
            "    return self._main(args)\n",
            "  File \"/usr/local/lib/python3.9/dist-packages/pip/_internal/cli/base_command.py\", line 214, in _main\n",
            "    return run(options, args)\n",
            "  File \"/usr/local/lib/python3.9/dist-packages/pip/_internal/cli/base_command.py\", line 198, in exc_logging_wrapper\n",
            "    logger.debug(\"Exception information:\", exc_info=True)\n",
            "  File \"/usr/lib/python3.9/logging/__init__.py\", line 1434, in debug\n",
            "    self._log(DEBUG, msg, args, **kwargs)\n",
            "  File \"/usr/lib/python3.9/logging/__init__.py\", line 1589, in _log\n",
            "    self.handle(record)\n",
            "  File \"/usr/lib/python3.9/logging/__init__.py\", line 1599, in handle\n",
            "    self.callHandlers(record)\n",
            "  File \"/usr/lib/python3.9/logging/__init__.py\", line 1661, in callHandlers\n",
            "    hdlr.handle(record)\n",
            "  File \"/usr/lib/python3.9/logging/__init__.py\", line 952, in handle\n",
            "    self.emit(record)\n",
            "  File \"/usr/lib/python3.9/logging/handlers.py\", line 75, in emit\n",
            "    logging.FileHandler.emit(self, record)\n",
            "  File \"/usr/lib/python3.9/logging/__init__.py\", line 1187, in emit\n",
            "    StreamHandler.emit(self, record)\n",
            "  File \"/usr/lib/python3.9/logging/__init__.py\", line 1083, in emit\n",
            "    msg = self.format(record)\n",
            "  File \"/usr/lib/python3.9/logging/__init__.py\", line 927, in format\n",
            "    return fmt.format(record)\n",
            "  File \"/usr/local/lib/python3.9/dist-packages/pip/_internal/utils/logging.py\", line 112, in format\n",
            "    formatted = super().format(record)\n",
            "  File \"/usr/lib/python3.9/logging/__init__.py\", line 671, in format\n",
            "    record.exc_text = self.formatException(record.exc_info)\n",
            "  File \"/usr/lib/python3.9/logging/__init__.py\", line 621, in formatException\n",
            "    traceback.print_exception(ei[0], ei[1], tb, None, sio)\n",
            "  File \"/usr/lib/python3.9/traceback.py\", line 103, in print_exception\n",
            "    for line in TracebackException(\n",
            "  File \"/usr/lib/python3.9/traceback.py\", line 517, in __init__\n",
            "    self.stack = StackSummary.extract(\n",
            "  File \"/usr/lib/python3.9/traceback.py\", line 366, in extract\n",
            "    f.line\n",
            "  File \"/usr/lib/python3.9/traceback.py\", line 288, in line\n",
            "    self._line = linecache.getline(self.filename, self.lineno).strip()\n",
            "  File \"/usr/lib/python3.9/linecache.py\", line 30, in getline\n",
            "    lines = getlines(filename, module_globals)\n",
            "  File \"/usr/lib/python3.9/linecache.py\", line 46, in getlines\n",
            "    return updatecache(filename, module_globals)\n",
            "  File \"/usr/lib/python3.9/linecache.py\", line 137, in updatecache\n",
            "    lines = fp.readlines()\n",
            "  File \"/usr/lib/python3.9/codecs.py\", line 319, in decode\n",
            "    def decode(self, input, final=False):\n",
            "KeyboardInterrupt\n",
            "^C\n",
            "\u001b[31mERROR: Operation cancelled by user\u001b[0m\u001b[31m\n",
            "\u001b[0mTraceback (most recent call last):\n",
            "  File \"/usr/local/lib/python3.9/dist-packages/pip/_internal/cli/base_command.py\", line 160, in exc_logging_wrapper\n",
            "    status = run_func(*args)\n",
            "  File \"/usr/local/lib/python3.9/dist-packages/pip/_internal/cli/req_command.py\", line 241, in wrapper\n",
            "    return func(self, options, args)\n",
            "  File \"/usr/local/lib/python3.9/dist-packages/pip/_internal/commands/install.py\", line 419, in run\n",
            "    requirement_set = resolver.resolve(\n",
            "  File \"/usr/local/lib/python3.9/dist-packages/pip/_internal/resolution/resolvelib/resolver.py\", line 73, in resolve\n",
            "    collected = self.factory.collect_root_requirements(root_reqs)\n",
            "  File \"/usr/local/lib/python3.9/dist-packages/pip/_internal/resolution/resolvelib/factory.py\", line 491, in collect_root_requirements\n",
            "    req = self._make_requirement_from_install_req(\n",
            "  File \"/usr/local/lib/python3.9/dist-packages/pip/_internal/resolution/resolvelib/factory.py\", line 453, in _make_requirement_from_install_req\n",
            "    cand = self._make_candidate_from_link(\n",
            "  File \"/usr/local/lib/python3.9/dist-packages/pip/_internal/resolution/resolvelib/factory.py\", line 206, in _make_candidate_from_link\n",
            "    self._link_candidate_cache[link] = LinkCandidate(\n",
            "  File \"/usr/local/lib/python3.9/dist-packages/pip/_internal/resolution/resolvelib/candidates.py\", line 297, in __init__\n",
            "    super().__init__(\n",
            "  File \"/usr/local/lib/python3.9/dist-packages/pip/_internal/resolution/resolvelib/candidates.py\", line 162, in __init__\n",
            "    self.dist = self._prepare()\n",
            "  File \"/usr/local/lib/python3.9/dist-packages/pip/_internal/resolution/resolvelib/candidates.py\", line 231, in _prepare\n",
            "    dist = self._prepare_distribution()\n",
            "  File \"/usr/local/lib/python3.9/dist-packages/pip/_internal/resolution/resolvelib/candidates.py\", line 308, in _prepare_distribution\n",
            "    return preparer.prepare_linked_requirement(self._ireq, parallel_builds=True)\n",
            "  File \"/usr/local/lib/python3.9/dist-packages/pip/_internal/operations/prepare.py\", line 491, in prepare_linked_requirement\n",
            "    return self._prepare_linked_requirement(req, parallel_builds)\n",
            "  File \"/usr/local/lib/python3.9/dist-packages/pip/_internal/operations/prepare.py\", line 536, in _prepare_linked_requirement\n",
            "    local_file = unpack_url(\n",
            "  File \"/usr/local/lib/python3.9/dist-packages/pip/_internal/operations/prepare.py\", line 155, in unpack_url\n",
            "    unpack_vcs_link(link, location, verbosity=verbosity)\n",
            "  File \"/usr/local/lib/python3.9/dist-packages/pip/_internal/operations/prepare.py\", line 78, in unpack_vcs_link\n",
            "    vcs_backend.unpack(location, url=hide_url(link.url), verbosity=verbosity)\n",
            "  File \"/usr/local/lib/python3.9/dist-packages/pip/_internal/vcs/versioncontrol.py\", line 608, in unpack\n",
            "    self.obtain(location, url=url, verbosity=verbosity)\n",
            "  File \"/usr/local/lib/python3.9/dist-packages/pip/_internal/vcs/versioncontrol.py\", line 521, in obtain\n",
            "    self.fetch_new(dest, url, rev_options, verbosity=verbosity)\n",
            "  File \"/usr/local/lib/python3.9/dist-packages/pip/_internal/vcs/git.py\", line 276, in fetch_new\n",
            "    self.run_command(\n",
            "  File \"/usr/local/lib/python3.9/dist-packages/pip/_internal/vcs/versioncontrol.py\", line 650, in run_command\n",
            "    return call_subprocess(\n",
            "  File \"/usr/local/lib/python3.9/dist-packages/pip/_internal/utils/subprocess.py\", line 166, in call_subprocess\n",
            "    line: str = proc.stdout.readline()\n",
            "KeyboardInterrupt\n",
            "\n",
            "During handling of the above exception, another exception occurred:\n",
            "\n",
            "Traceback (most recent call last):\n",
            "  File \"/usr/local/bin/pip3\", line 8, in <module>\n",
            "    sys.exit(main())\n",
            "  File \"/usr/local/lib/python3.9/dist-packages/pip/_internal/cli/main.py\", line 70, in main\n",
            "    return command.main(cmd_args)\n",
            "  File \"/usr/local/lib/python3.9/dist-packages/pip/_internal/cli/base_command.py\", line 101, in main\n",
            "    return self._main(args)\n",
            "  File \"/usr/local/lib/python3.9/dist-packages/pip/_internal/cli/base_command.py\", line 214, in _main\n",
            "    return run(options, args)\n",
            "  File \"/usr/local/lib/python3.9/dist-packages/pip/_internal/cli/base_command.py\", line 198, in exc_logging_wrapper\n",
            "    logger.debug(\"Exception information:\", exc_info=True)\n",
            "  File \"/usr/lib/python3.9/logging/__init__.py\", line 1434, in debug\n",
            "    self._log(DEBUG, msg, args, **kwargs)\n",
            "  File \"/usr/lib/python3.9/logging/__init__.py\", line 1589, in _log\n",
            "    self.handle(record)\n",
            "  File \"/usr/lib/python3.9/logging/__init__.py\", line 1599, in handle\n",
            "    self.callHandlers(record)\n",
            "  File \"/usr/lib/python3.9/logging/__init__.py\", line 1661, in callHandlers\n",
            "    hdlr.handle(record)\n",
            "  File \"/usr/lib/python3.9/logging/__init__.py\", line 952, in handle\n",
            "    self.emit(record)\n",
            "  File \"/usr/lib/python3.9/logging/handlers.py\", line 75, in emit\n",
            "    logging.FileHandler.emit(self, record)\n",
            "  File \"/usr/lib/python3.9/logging/__init__.py\", line 1187, in emit\n",
            "    StreamHandler.emit(self, record)\n",
            "  File \"/usr/lib/python3.9/logging/__init__.py\", line 1083, in emit\n",
            "    msg = self.format(record)\n",
            "  File \"/usr/lib/python3.9/logging/__init__.py\", line 927, in format\n",
            "    return fmt.format(record)\n",
            "  File \"/usr/local/lib/python3.9/dist-packages/pip/_internal/utils/logging.py\", line 112, in format\n",
            "    formatted = super().format(record)\n",
            "  File \"/usr/lib/python3.9/logging/__init__.py\", line 671, in format\n",
            "    record.exc_text = self.formatException(record.exc_info)\n",
            "  File \"/usr/lib/python3.9/logging/__init__.py\", line 621, in formatException\n",
            "    traceback.print_exception(ei[0], ei[1], tb, None, sio)\n",
            "  File \"/usr/lib/python3.9/traceback.py\", line 103, in print_exception\n",
            "    for line in TracebackException(\n",
            "  File \"/usr/lib/python3.9/traceback.py\", line 517, in __init__\n",
            "    self.stack = StackSummary.extract(\n",
            "  File \"/usr/lib/python3.9/traceback.py\", line 366, in extract\n",
            "    f.line\n",
            "  File \"/usr/lib/python3.9/traceback.py\", line 288, in line\n",
            "    self._line = linecache.getline(self.filename, self.lineno).strip()\n",
            "  File \"/usr/lib/python3.9/linecache.py\", line 30, in getline\n",
            "    lines = getlines(filename, module_globals)\n",
            "  File \"/usr/lib/python3.9/linecache.py\", line 46, in getlines\n",
            "    return updatecache(filename, module_globals)\n",
            "  File \"/usr/lib/python3.9/linecache.py\", line 137, in updatecache\n",
            "    lines = fp.readlines()\n",
            "  File \"/usr/lib/python3.9/codecs.py\", line 319, in decode\n",
            "    def decode(self, input, final=False):\n",
            "KeyboardInterrupt\n",
            "^C\n",
            "\u001b[2K     \u001b[90m━━━━━━━━━━━━━━━━━━━━━━━━━━━━━━━━━━━━━━━━\u001b[0m \u001b[32m3.3/3.3 MB\u001b[0m \u001b[31m32.1 MB/s\u001b[0m eta \u001b[36m0:00:00\u001b[0m\n",
            "\u001b[?25h\u001b[31mERROR: Operation cancelled by user\u001b[0m\u001b[31m\n",
            "\u001b[0m"
          ]
        }
      ],
      "source": [
        "!pip install -q git+https://github.com/tknapen/nsd_access\n",
        "!pip install -q git+https://github.com/PalaashAgrawal/NSD_exploration.git\n",
        "!pip install -q nibabel==4.0.2"
      ]
    },
    {
      "cell_type": "code",
      "execution_count": null,
      "metadata": {
        "id": "Hqnldfzg962X"
      },
      "outputs": [],
      "source": [
        "import nibabel as nib"
      ]
    },
    {
      "cell_type": "markdown",
      "metadata": {
        "id": "U2nWFBXAVtN9"
      },
      "source": [
        "# NSD Explore"
      ]
    },
    {
      "cell_type": "code",
      "execution_count": null,
      "metadata": {
        "id": "0xwvVlPnVut4"
      },
      "outputs": [],
      "source": [
        "import numpy as np\n",
        "import pandas as pd\n",
        "from pathlib import Path\n",
        "import h5py\n",
        "from scipy.stats import pearsonr\n",
        "import pickle\n",
        "from tqdm import tqdm\n",
        "import nibabel as nib\n",
        "from nsd_access import NSDAccess\n",
        "import os\n",
        "\n",
        "def get_stim(subject, info_file_path, fmri_path):\n",
        "\tinfo_file = pd.read_csv(info_file_path)\n",
        "\tinfo_file = info_file.loc[info_file['subject'+str(subject)] == 1]\n",
        "\n",
        "\tfmri_order_list=[]\n",
        "\tfor i,vals in (info_file.iterrows()): \n",
        "\t\torder = vals[f'subject{subject}_rep0']\n",
        "\t\tsession = order//750 + 1\n",
        "\t\tif os.path.exists(fmri_path+f'/betas_session{session:02d}.hdf5'):\n",
        "\t\t\tfmri_order_list.append(order)\n",
        "\tstim = sorted(fmri_order_list)\n",
        "\treturn stim \n",
        "\n",
        "def get_chunkified_stimulus_order(stimulus_order:dict):\n",
        "\tf'Its easier to access all the files from a hdf5 file at once rather than opening the hdf5 file repeatedly for each stimulus. Helper function for that'\n",
        "\tchunks = {}\n",
        "\tfor order in stimulus_order:\n",
        "\t\tsession = order//750 + 1\n",
        "\t\tif session not in chunks: \n",
        "\t\t\tchunks[session] = [(order-1)%750]\n",
        "\t\telse: \n",
        "\t\t\tchunks[session].append((order-1)%750)\n",
        "\n",
        "\t\n",
        "\tfor session in sorted(chunks.keys()): \n",
        "\t\tyield session,chunks[session]\n",
        "\n",
        "def apply_tfms(x, tfms: list):\n",
        "\tfor tfm in tfms: \n",
        "\t\tx = tfm(x)\n",
        "\treturn x\n",
        "\n",
        "def noop(x): return x\n",
        "\n",
        "\n",
        "def get_fmri_list(stimulus_order:dict, tfms = None): \n",
        "\tf'''\n",
        "\tget list of fmri's from the hdf5 files, on which tfms are applied (eg ROIs),\n",
        "\tgiven the stimulus_order dictionary which corresponds to the subject \"subj\" is being considered\n",
        "\t'''\n",
        "\ttfms = list(tfms) if tfms else [lambda x: x]\n",
        "\tfmri_list = []\n",
        "\tfor session, indices in get_chunkified_stimulus_order(stimulus_order):\n",
        "\t\tfmri_file = fmri_path+f'/betas_session{session:02d}.hdf5'\n",
        "\t\tif True:\n",
        "\t\t\twith h5py.File(fmri_file,\"r\") as f: \n",
        "\t\t\t\tbeta = f['betas'][()]\n",
        "\t\t\t\tfmris = apply_tfms(beta[indices], tfms)\n",
        "\t\t\t\tfmri_list.extend(list(fmris))\n",
        "\treturn fmri_list\n",
        "\n",
        "\n",
        "roi_index = {\n",
        "\t'v1v':1.,\n",
        "\t'v1d':2.,\n",
        "\t'v2v':3.,\n",
        "\t'v2d':4.,\n",
        "\t'v3v':5.,\n",
        "\t'v3d':6.,\n",
        "\t'v4':7. #hv4\n",
        "}\n",
        "\n",
        "\n",
        "\n",
        "def get_roi_data(roi_file_paths):\n",
        "\troi_file_paths = list(roi_file_paths)\n",
        "\treturn [nib.load(roi_path).get_fdata().transpose(2,1,0) for roi_path in roi_file_paths]\n",
        "\n",
        "def get_roi_regions(roi_file_index, region, pathway):\n",
        "\tif pathway is None: pathway = ''\n",
        "\tkeys = [key for key in roi_file_index if key.startswith(region+pathway)]\n",
        "\tprint('keys extracted: ',keys)\n",
        "\treturn [roi_file_index[key] for key in keys]\n",
        "\n",
        "\n",
        "class apply_roi():\n",
        "\tdef __init__(self, roi_file_paths,roi_file_index = roi_index, region = 'v1', pathway = None):\n",
        "\t\tf'''\n",
        "\t\troi_file_paths( str or Path or list of str/Paths): path of roi file (eg. <path>/'lh.prf-visualrois.nii.gz'). Many a times, ROI files corresponding to any region are present as multiple files. \n",
        "\t\teg: lh.prf-visualrois and rh.prf-visualrois. You can provide a list of paths, provided the roi_file_index mapping is common for all of them. \n",
        "        \n",
        "\t\troi_file_index: dictionary mapping region name to index in the roi file. \n",
        "\t\tregion (str): v1,v2,v3 or v4\n",
        "\t\tpathway: None, 'v' (ventral) or 'd' (dorsal). If pathway =None, both ventral and dorsal are chosen\n",
        "\t\t'''\n",
        "\t\t\n",
        "\t\t#Assertions\n",
        "\t\tassert roi_file_paths is not None\n",
        "\t\tif pathway: assert pathway in ('v','d'), f\"invalid pathway. Should be None, 'v' or 'd'\"\n",
        "\t\tif region=='v4': assert pathway is None, f\"ventral or dorsal pathways dont exist for the hv4 region. Use pathway=None\"\n",
        "\t\t#____________________________________________________________________________________________________\n",
        "\t\tself.roi =  sum((roi==reg).astype(float) for roi in get_roi_data(roi_file_paths) for reg in get_roi_regions(roi_file_index,region, pathway))\n",
        "\n",
        "\tdef __call__(self,fmri):\n",
        "\t\treturn np.multiply(fmri,self.roi)\n",
        "\n",
        "\n",
        "\n",
        "def construct_RDM(activations):\n",
        "\tnum_images = len(activations)\n",
        "\tRDM = np.zeros((num_images, num_images))\n",
        "\n",
        "\tfor x in range(num_images):\n",
        "\t\tfor y in range(num_images):\n",
        "\t\t\tif x<=y:\n",
        "\t\t\t\tcorrel = 1 - (pearsonr(activations[x].flatten(), activations[y].flatten()))[0]\n",
        "\t\t\t\tRDM[x][y] = correl\n",
        "\t\t\t\tRDM[y][x] = correl\n",
        "\treturn RDM.astype(float)\n",
        "\n",
        "\n",
        "\n",
        "\n",
        "# with open(path/f'RDM/RDM_subj{subject}_{region}.pkl','wb') as f: pickle.dump(rdm, f)\n"
      ]
    },
    {
      "cell_type": "code",
      "execution_count": null,
      "metadata": {
        "colab": {
          "base_uri": "https://localhost:8080/"
        },
        "id": "QU2rEc3Akhf_",
        "outputId": "1bc1fa89-fa0d-4be5-df9f-7fdb1d05b036"
      },
      "outputs": [
        {
          "output_type": "stream",
          "name": "stdout",
          "text": [
            "keys extracted:  ['v1v']\n",
            "keys extracted:  ['v1v']\n",
            "keys extracted:  ['v2v']\n",
            "keys extracted:  ['v2v']\n",
            "keys extracted:  ['v3v']\n",
            "keys extracted:  ['v3v']\n",
            "keys extracted:  ['v4']\n",
            "keys extracted:  ['v4']\n"
          ]
        }
      ],
      "source": [
        "subject = 5\n",
        "fmri_path = '/content/drive/MyDrive/Thesis/Data/NSD/nsddata_betas/ppdata/subj0'+str(subject)+'/func1pt8mm/betas_fithrf_GLMdenoise_RR'\n",
        "info_file_path = '/content/drive/MyDrive/Thesis/Data/NSD/nsd_coco_cifar_pre.csv' \n",
        "roi_path = '/content/drive/MyDrive/Thesis/Data/NSD/nsddata/ppdata/subj0'+str(subject)+'/func1pt8mm/roi'\n",
        "\n",
        "regions = ['v1','v2','v3','v4']\n",
        "fmri_rdms = []\n",
        "\n",
        "for region in regions:    \n",
        "    pathway = None if region=='v4' else 'v'\n",
        "    \n",
        "    stim = get_stim(subject, info_file_path, fmri_path)\n",
        "    roi_paths = [roi_path+'/lh.prf-visualrois.nii.gz',roi_path+'/rh.prf-visualrois.nii.gz']\n",
        "    tfms = apply_roi(roi_paths, region = region, pathway = pathway)\n",
        "    fmri_activations = get_fmri_list(stim, tfms = [tfms])\n",
        "    fmri_rdm = construct_RDM(fmri_activations)\n",
        "    fmri_rdms.append(fmri_rdm)\n"
      ]
    },
    {
      "cell_type": "code",
      "source": [
        "nsd_df = pd.read_csv('/content/drive/MyDrive/Thesis/Data/NSD/nsd_coco_cifar_pre.csv',)\n",
        "\n",
        "NSD = NSDAccess('/content/drive/MyDrive/Thesis/Data/NSD')\n",
        "\n",
        "def getImages(nsd_df, subject):\n",
        "    nsd_df = nsd_df.loc[nsd_df['subject'+str(subject)] == 1]\n",
        "    nsd_ids = list(nsd_df['nsdId'])\n",
        "    nsd_ids.sort()\n",
        "\n",
        "    for id in nsd_ids:\n",
        "        order = nsd_df.loc[nsd_df['nsdId'] == id][f'subject{subject}_rep0'].iloc[0]\n",
        "        session = order//750 + 1\n",
        "        if not os.path.exists(fmri_path+f'/betas_session{session:02d}.hdf5'):\n",
        "            nsd_ids.remove(id)\n",
        "    images = NSD.read_images(nsd_ids, show=False)\n",
        "    print(nsd_ids)\n",
        "    return images"
      ],
      "metadata": {
        "id": "EQF9CanGHLGD"
      },
      "execution_count": null,
      "outputs": []
    },
    {
      "cell_type": "code",
      "source": [
        "images = getImages(nsd_df, subject)"
      ],
      "metadata": {
        "colab": {
          "base_uri": "https://localhost:8080/"
        },
        "id": "Cz9WzMVBHPRr",
        "outputId": "6458eaf6-c039-4318-c0c7-07c9825e36fd"
      },
      "execution_count": null,
      "outputs": [
        {
          "output_type": "stream",
          "name": "stdout",
          "text": [
            "[306, 335, 442, 642, 741, 1314, 1753, 2656, 2945]\n"
          ]
        }
      ]
    },
    {
      "cell_type": "markdown",
      "metadata": {
        "id": "zEeAMBZmWZK3"
      },
      "source": [
        "# CNN"
      ]
    },
    {
      "cell_type": "code",
      "execution_count": null,
      "metadata": {
        "id": "k9Plu8hgY9cL"
      },
      "outputs": [],
      "source": [
        "import torch\n",
        "import torch.nn as nn\n",
        "from torch.utils.data import Dataset, DataLoader\n",
        "from torchvision.datasets import ImageFolder\n",
        "from torch.nn.parameter import Parameter\n",
        "import torchvision\n",
        "from torchvision import transforms\n",
        "\n",
        "CNN_transform = transforms.Compose(\n",
        "    [transforms.ToTensor(),\n",
        "     transforms.Normalize((0.5, 0.5, 0.5), (0.5, 0.5, 0.5))])"
      ]
    },
    {
      "cell_type": "markdown",
      "metadata": {
        "id": "8OgQ2z3gUbK9"
      },
      "source": [
        "## Model"
      ]
    },
    {
      "cell_type": "code",
      "execution_count": null,
      "metadata": {
        "id": "m6M-j-5UUiRX"
      },
      "outputs": [],
      "source": [
        "import torch.nn as nn\n",
        "import torch.nn.functional as F\n",
        "\n",
        "\n",
        "class Net(nn.Module):\n",
        "    def __init__(self):\n",
        "        super().__init__()\n",
        "        self.pool = nn.MaxPool2d(2, 2)\n",
        "\n",
        "        self.conv1 = nn.Conv2d(3, 90, 3)\n",
        "        self.conv2 = nn.Conv2d(90, 145, 2)\n",
        "        self.conv3 = nn.Conv2d(145, 281, 2)\n",
        "        self.conv4 = nn.Conv2d(281, 50, 5)\n",
        "        self.fc1 = nn.Linear(50 * 2 * 2, 10)\n",
        "\n",
        "\n",
        "    def forward(self, x):\n",
        "        x = self.pool(F.relu(self.conv1(x)))\n",
        "        x = F.relu(self.conv2(x))\n",
        "        x = self.pool(F.relu(self.conv3(x)))\n",
        "        x = F.relu(self.conv4(x))\n",
        "        x = torch.ravel(x)\n",
        "        x = self.fc1(x)\n",
        "        return x\n"
      ]
    },
    {
      "cell_type": "code",
      "execution_count": null,
      "metadata": {
        "id": "3LJOxvxbUlBr",
        "colab": {
          "base_uri": "https://localhost:8080/"
        },
        "outputId": "b63c783f-4da4-4ba7-ddc0-7ca4d3045627"
      },
      "outputs": [
        {
          "output_type": "execute_result",
          "data": {
            "text/plain": [
              "<All keys matched successfully>"
            ]
          },
          "metadata": {},
          "execution_count": 32
        }
      ],
      "source": [
        "CNN = net = Net()\n",
        "CNN.load_state_dict(torch.load('/content/drive/MyDrive/Thesis/checkpoints/4layer_70.pth'))"
      ]
    },
    {
      "cell_type": "markdown",
      "metadata": {
        "id": "QB20EVioUcWO"
      },
      "source": [
        "## Get Activations"
      ]
    },
    {
      "cell_type": "code",
      "execution_count": null,
      "metadata": {
        "id": "Aztct2X_PbLI"
      },
      "outputs": [],
      "source": [
        "from PIL import Image\n",
        "import numpy as np\n",
        "\n",
        "# Reshape images and transform\n",
        "imgs_retran = []\n",
        "for image in images:\n",
        "    image = Image.fromarray(np.uint8(image)).convert('RGB')\n",
        "    image.thumbnail((32,32), Image.ANTIALIAS)\n",
        "    imgs_retran.append(CNN_transform(np.asarray(image)))"
      ]
    },
    {
      "cell_type": "code",
      "execution_count": null,
      "metadata": {
        "id": "o11T1hxiaJxh"
      },
      "outputs": [],
      "source": [
        "CNN_activations = []\n",
        "\n",
        "layers = list(CNN.named_children())[1:5]\n",
        "\n",
        "for layer in layers:\n",
        "    layer_activations = []\n",
        "    activation = {}\n",
        "\n",
        "    # Puts model in evaluation mode\n",
        "    CNN.eval()\n",
        "\n",
        "    # Activation hook function\n",
        "    def get_activation(name):\n",
        "        def hook(model, input, output):\n",
        "            activation[name] = output.detach()\n",
        "        return hook\n",
        "\n",
        "    # Register the hook to the last CNN layer \n",
        "    #(this will get activations coming out of the last CNN layer)\n",
        "    x = list(CNN.named_children())\n",
        "    layer[1].register_forward_hook(get_activation(layer[0]))\n",
        "\n",
        "    # Pass COCO images into model\n",
        "    for image in imgs_retran:\n",
        "        # Turn off gradient calcs just in case! (even though its in eval())\n",
        "        with torch.no_grad():\n",
        "            CNN(image)\n",
        "\n",
        "        # Save activations for this batch\n",
        "        layer_activations.append(activation[layer[0]].numpy())\n",
        "    CNN_activations.append(layer_activations)"
      ]
    },
    {
      "cell_type": "markdown",
      "source": [
        "# CSNN"
      ],
      "metadata": {
        "id": "D5JUl5BaF3rz"
      }
    },
    {
      "cell_type": "code",
      "source": [
        "!pip install -q git+https://github.com/miladmozafari/SpykeTorch.git"
      ],
      "metadata": {
        "colab": {
          "base_uri": "https://localhost:8080/"
        },
        "id": "0vdqD8haH6Dg",
        "outputId": "cb11f53f-a6ea-441c-ebef-0dcc69e0644e"
      },
      "execution_count": null,
      "outputs": [
        {
          "output_type": "stream",
          "name": "stdout",
          "text": [
            "  Preparing metadata (setup.py) ... \u001b[?25l\u001b[?25hdone\n",
            "  Building wheel for SpykeTorch-miladmozafari (setup.py) ... \u001b[?25l\u001b[?25hdone\n"
          ]
        }
      ]
    },
    {
      "cell_type": "code",
      "source": [
        "import torch\n",
        "import torch.nn as nn\n",
        "from torch.utils.data import Dataset, DataLoader\n",
        "from torchvision.datasets import ImageFolder\n",
        "from torch.nn.parameter import Parameter\n",
        "import torchvision\n",
        "import numpy as np\n",
        "from SpykeTorch import snn\n",
        "from SpykeTorch import functional as sf\n",
        "from SpykeTorch import visualization as vis\n",
        "from SpykeTorch import utils\n",
        "from torchvision import transforms\n",
        "\n",
        "def time_dim(input):\n",
        "    return input.unsqueeze(0)\n",
        "\n",
        "CSNN_transform = transforms.Compose(\n",
        "    [transforms.ToTensor(),\n",
        "     transforms.Normalize((0.5, 0.5, 0.5), (0.5, 0.5, 0.5)),\n",
        "     time_dim,\n",
        "     sf.pointwise_inhibition,\n",
        "     utils.Intensity2Latency(number_of_spike_bins = 15, to_spike = True)])"
      ],
      "metadata": {
        "id": "qmq3h-vQHHLI"
      },
      "execution_count": null,
      "outputs": []
    },
    {
      "cell_type": "markdown",
      "source": [
        "## Model"
      ],
      "metadata": {
        "id": "Wd_wcimfHFls"
      }
    },
    {
      "cell_type": "code",
      "source": [
        "class CSNN(nn.Module):\n",
        "    def __init__(self):\n",
        "        super(CSNN, self).__init__()\n",
        "\n",
        "        self.n_layers = 4\n",
        "\n",
        "        # Pooling Layer\n",
        "        self.pool = snn.Pooling(kernel_size = 3, stride = 1)\n",
        "\n",
        "        # Conv Layers\n",
        "        self.conv1 = snn.Convolution(in_channels=3, out_channels=64, kernel_size=4)\n",
        "        self.conv2 = snn.Convolution(in_channels=64, out_channels=128, kernel_size=3)\n",
        "        self.conv3 = snn.Convolution(in_channels=128, out_channels=256, kernel_size=3)\n",
        "        self.conv4 = snn.Convolution(in_channels=256, out_channels=100, kernel_size=1)\n",
        "\n",
        "        # STDP Functions\n",
        "        self.stdp1 = snn.STDP(conv_layer = self.conv1, learning_rate = (0.1, -0.005))  #0.1, -0.005\n",
        "        self.stdp2 = snn.STDP(conv_layer = self.conv2, learning_rate = (0.07, -0.005)) #0.09, -0.005\n",
        "        self.stdp3 = snn.STDP(conv_layer = self.conv3, learning_rate = (0.05, -0.005))  #0.08 -0.005\n",
        "        self.stdp4 = snn.STDP(self.conv4, (0.5, -0.05), False, 0.2) #(0.007, -0.01)\n",
        "        self.anti_stdp = snn.STDP(self.conv4, (-0.0002, 0.075), False, 0.2) # (-0.002, 0.0001)\n",
        "\n",
        "        # Ignore! -> parameter is only used for training\n",
        "        self.max_ap = Parameter(torch.Tensor([0.3]))\n",
        "\n",
        "        # Outputs\n",
        "        self.outputs = {'conv1':[], 'conv2':[], 'conv3':[], 'conv4':[]}\n",
        "\n",
        "    def forward(self, x, t, layer):\n",
        "        x = self.pool(x)\n",
        "        p = self.conv1(x)\n",
        "        o, p = sf.fire(p, 10, return_thresholded_potentials=True)\n",
        "        self.store_pot_out(o, 'conv1')\n",
        "        x = o\n",
        "        p = self.conv2(x)\n",
        "        o, p = sf.fire(p, 5, return_thresholded_potentials=True)\n",
        "        self.store_pot_out(o, 'conv2')\n",
        "        x = o\n",
        "        p = self.conv3(x)\n",
        "        o, p = sf.fire(p, 2, return_thresholded_potentials=True)\n",
        "        self.store_pot_out(o, 'conv3')\n",
        "        p = self.conv4(o)\n",
        "        o = sf.fire(p,2)\n",
        "        self.store_pot_out(o, 'conv4')\n",
        "        winners = sf.get_k_winners(p, kwta=1, inhibition_radius=0, spikes=o)\n",
        "        return winners\n",
        "    \n",
        "    def store_pot_out(self, out, layer):\n",
        "        self.outputs[layer].append(out)\n",
        "\n",
        "\n",
        "    def reset(self):\n",
        "        self.conv.reset_weight    \n",
        "\n",
        "    def stdp(self, layer, x, p, o, winners):\n",
        "        if layer == 1:\n",
        "            self.stdp1(x, p, o, winners)\n",
        "        elif layer == 2:\n",
        "            self.stdp2(x, p, o, winners)\n",
        "        elif layer == 3:\n",
        "            self.stdp3(x, p, o, winners)\n",
        "        else:\n",
        "            self.stdp4(x, p, o, winners)\n",
        "\n",
        "\n",
        "    def update_learning_rates(self, stdp_ap, stdp_an, anti_stdp_ap, anti_stdp_an):\n",
        "        self.stdp4.update_all_learning_rate(stdp_ap, stdp_an)\n",
        "        self.anti_stdp.update_all_learning_rate(anti_stdp_an, anti_stdp_ap)"
      ],
      "metadata": {
        "id": "IOKeLdbyF22z"
      },
      "execution_count": null,
      "outputs": []
    },
    {
      "cell_type": "code",
      "source": [
        "csnn = CSNN()\n",
        "\n",
        "# l1_dir = '/content/drive/MyDrive/Thesis/checkpoints/saved_l1.net'\n",
        "# l2_dir = '/content/drive/MyDrive/Thesis/checkpoints/saved_l2.net'\n",
        "# l3_dir = '/content/drive/MyDrive/Thesis/checkpoints/saved_l3.net'\n",
        "# l4_dir = '/content/drive/MyDrive/Thesis/checkpoints/saved_l4.net'\n",
        "\n",
        "# csnn.load_state_dict(torch.load(l1_dir, map_location=torch.device('cpu')))\n",
        "# csnn.load_state_dict(torch.load(l2_dir, map_location=torch.device('cpu')))\n",
        "# csnn.load_state_dict(torch.load(l3_dir, map_location=torch.device('cpu')))\n",
        "# csnn.load_state_dict(torch.load(l4_dir, map_location=torch.device('cpu')))"
      ],
      "metadata": {
        "id": "NaLns909IOH6"
      },
      "execution_count": null,
      "outputs": []
    },
    {
      "cell_type": "markdown",
      "source": [
        "## Get Activations"
      ],
      "metadata": {
        "id": "QBCrKw5OPUNt"
      }
    },
    {
      "cell_type": "code",
      "source": [
        "from PIL import Image\n",
        "import numpy as np\n",
        "\n",
        "# Reshape images and transform\n",
        "imgs_retran = []\n",
        "for image in images:\n",
        "    image = Image.fromarray(np.uint8(image)).convert('RGB')\n",
        "    image.thumbnail((32,32), Image.ANTIALIAS)\n",
        "    imgs_retran.append(CSNN_transform(np.asarray(image)))"
      ],
      "metadata": {
        "id": "6j1fnQiCKolh"
      },
      "execution_count": null,
      "outputs": []
    },
    {
      "cell_type": "code",
      "source": [
        "csnn.eval()\n",
        "\n",
        "for image in imgs_retran:\n",
        "    csnn(image,None,4)\n",
        "\n",
        "CSNN_outs = csnn.outputs\n"
      ],
      "metadata": {
        "id": "b41Tc4MFUX0t"
      },
      "execution_count": null,
      "outputs": []
    },
    {
      "cell_type": "markdown",
      "metadata": {
        "id": "gtlVPZefq2Mh"
      },
      "source": [
        "# Compare RDMs"
      ]
    },
    {
      "cell_type": "code",
      "execution_count": null,
      "metadata": {
        "id": "ZGnJ1S3tlX8-"
      },
      "outputs": [],
      "source": [
        "# Code adapted from https://github.com/ColinConwell/DeepDive/blob/main/deepdive/mapping_methods.py \n",
        "def compare_rdms(rdm1, rdm2):\n",
        "    rdm1_triu = rdm1[np.triu_indices(rdm1.shape[0], k=1)]\n",
        "    rdm2_triu = rdm2[np.triu_indices(rdm2.shape[0], k=1)]\n",
        "    \n",
        "    return pearsonr(rdm1_triu, rdm2_triu)[0]\n"
      ]
    },
    {
      "cell_type": "markdown",
      "source": [
        "## CNN Compare"
      ],
      "metadata": {
        "id": "eIcmiBFdFtXK"
      }
    },
    {
      "cell_type": "code",
      "source": [
        "def CNN_Compare(initial=False):\n",
        "    CNN_rdm_scores = []\n",
        "    if initial:\n",
        "        labels = []\n",
        "\n",
        "    for i, fmri_rdm in enumerate(fmri_rdms):\n",
        "        for j, activations in enumerate(CNN_activations):\n",
        "            CNN_rdm = construct_RDM(activations)\n",
        "            CNN_rdm_scores.append(compare_rdms(fmri_rdm, CNN_rdm))\n",
        "            if initial:\n",
        "                labels.append((regions[i],layers[j][0]))\n",
        "    if initial:\n",
        "        d = {'region':[l[0] for l in labels],'layer':[l[1] for l in labels],'subj'+str(subject)+'_rdm_score':CNN_rdm_scores}\n",
        "        init_df = pd.DataFrame(data=d)\n",
        "        init_df.to_csv('/content/drive/MyDrive/Thesis/Data/NSD/CNN_dm_scores.csv', index=False)\n",
        "\n",
        "    else:\n",
        "        CNN_scores_csv = pd.read_csv('/content/drive/MyDrive/Thesis/Data/NSD/CNN_rdm_scores.csv', index_col=False)\n",
        "        CNN_scores_csv['subj'+str(subject)+'_rdm_score'] = CNN_rdm_scores\n",
        "        CNN_scores_csv.to_csv('/content/drive/MyDrive/Thesis/Data/NSD/CNN_rdm_scores.csv', index=False)"
      ],
      "metadata": {
        "id": "6nsgaSovFY6L"
      },
      "execution_count": null,
      "outputs": []
    },
    {
      "cell_type": "code",
      "source": [
        "CNN_Compare(False)"
      ],
      "metadata": {
        "id": "to-WAzd3z0JH"
      },
      "execution_count": null,
      "outputs": []
    },
    {
      "cell_type": "markdown",
      "source": [
        "## CSNN Compare"
      ],
      "metadata": {
        "id": "ixnOudOMFwjo"
      }
    },
    {
      "cell_type": "code",
      "source": [
        "def CSNN_Compare(initial=False):\n",
        "    CSNN_rdm_scores = []\n",
        "    if initial:\n",
        "        labels = []\n",
        "\n",
        "    for i, fmri_rdm in enumerate(fmri_rdms):\n",
        "        for layer in CSNN_outs:\n",
        "            CSNN_rdm = construct_RDM(CSNN_outs[layer])\n",
        "            CSNN_rdm_scores.append(compare_rdms(fmri_rdm, CSNN_rdm))\n",
        "            if initial:\n",
        "                labels.append((regions[i],layer))\n",
        "    if initial:\n",
        "        d = {'region':[l[0] for l in labels],'layer':[l[1] for l in labels],'subj'+str(subject)+'_rdm_score':CSNN_rdm_scores}\n",
        "        init_df = pd.DataFrame(data=d)\n",
        "        init_df.to_csv('/content/drive/MyDrive/Thesis/Data/NSD/CSNN_rdm_scores.csv', index=False)\n",
        "\n",
        "    else:\n",
        "        CSNN_scores_csv = pd.read_csv('/content/drive/MyDrive/Thesis/Data/NSD/CSNN_rdm_scores.csv', index_col=False)\n",
        "        CSNN_scores_csv['subj'+str(subject)+'_rdm_score'] = CSNN_rdm_scores\n",
        "        CSNN_scores_csv.to_csv('/content/drive/MyDrive/Thesis/Data/NSD/CSNN_rdm_scores.csv', index=False)"
      ],
      "metadata": {
        "id": "jIroHKqUZ9iX"
      },
      "execution_count": null,
      "outputs": []
    },
    {
      "cell_type": "markdown",
      "source": [
        "## Run Compare"
      ],
      "metadata": {
        "id": "8Sgp8zLaj8et"
      }
    },
    {
      "cell_type": "code",
      "source": [
        "CSNN_Compare(False)"
      ],
      "metadata": {
        "id": "U9Ruq-gEj_L9"
      },
      "execution_count": null,
      "outputs": []
    },
    {
      "cell_type": "markdown",
      "source": [
        "# Formulate Results"
      ],
      "metadata": {
        "id": "VQXEEnlGrF5y"
      }
    },
    {
      "cell_type": "markdown",
      "source": [
        "## CNN"
      ],
      "metadata": {
        "id": "B5MMPPJGyH7U"
      }
    },
    {
      "cell_type": "code",
      "source": [
        "import pandas as pd"
      ],
      "metadata": {
        "id": "iwvtpLKsruSX"
      },
      "execution_count": null,
      "outputs": []
    },
    {
      "cell_type": "code",
      "source": [
        "CNN_scores_csv = pd.read_csv('/content/drive/MyDrive/Thesis/Data/NSD/CNN_rdm_scores.csv', index_col=False)\n",
        "\n",
        "CNN_scores_csv['avg'] = CNN_scores_csv.iloc[:,2:].mean(axis=1)\n",
        "\n",
        "res = list(round(CNN_scores_csv.loc[CNN_scores_csv['region'] == 'v3']['avg'],4))\n",
        "# sum(res)/len(res)\n",
        "\n",
        "res "
      ],
      "metadata": {
        "colab": {
          "base_uri": "https://localhost:8080/"
        },
        "id": "WJGoKzYuyLLQ",
        "outputId": "54d23257-a985-4c6f-b6bf-891dc69c098d"
      },
      "execution_count": null,
      "outputs": [
        {
          "output_type": "execute_result",
          "data": {
            "text/plain": [
              "[-0.0402, -0.0696, -0.0102, -0.0312]"
            ]
          },
          "metadata": {},
          "execution_count": 30
        }
      ]
    },
    {
      "cell_type": "markdown",
      "source": [
        "## CSNN\n"
      ],
      "metadata": {
        "id": "7ayp66Tyupav"
      }
    },
    {
      "cell_type": "code",
      "source": [
        "CSNN_scores_csv = pd.read_csv('/content/drive/MyDrive/Thesis/Data/NSD/CSNN_rdm_scores.csv', index_col=False)\n",
        "\n",
        "CSNN_scores_csv['avg'] = CSNN_scores_csv.iloc[:,2:].mean(axis=1)\n",
        "\n",
        "res = list(round(CSNN_scores_csv.loc[CSNN_scores_csv['region'] == 'v3']['avg'],4))\n",
        "\n",
        "res"
      ],
      "metadata": {
        "id": "Saw3yjiTCMgC",
        "colab": {
          "base_uri": "https://localhost:8080/"
        },
        "outputId": "dfff9ea3-7b88-404f-a80c-ea2733c4196b"
      },
      "execution_count": null,
      "outputs": [
        {
          "output_type": "execute_result",
          "data": {
            "text/plain": [
              "[0.001, 0.0058, 0.0195, 0.0195]"
            ]
          },
          "metadata": {},
          "execution_count": 25
        }
      ]
    },
    {
      "cell_type": "code",
      "source": [
        "CNN_scores_csv"
      ],
      "metadata": {
        "id": "g8Im5TzQyAkf",
        "colab": {
          "base_uri": "https://localhost:8080/",
          "height": 551
        },
        "outputId": "71dadbc9-1b64-488d-d678-db7c9a587973"
      },
      "execution_count": null,
      "outputs": [
        {
          "output_type": "execute_result",
          "data": {
            "text/plain": [
              "   region  layer  subj1_rdm_score  subj2_rdm_score  subj3_rdm_score  \\\n",
              "0      v1  conv1         0.311771        -0.126675        -0.175067   \n",
              "1      v1  conv2        -0.070362         0.046552        -0.014834   \n",
              "2      v1  conv3         0.121381        -0.074245         0.122989   \n",
              "3      v1  conv4         0.021773         0.055425        -0.056948   \n",
              "4      v2  conv1         0.258415        -0.096434        -0.136211   \n",
              "5      v2  conv2        -0.041830        -0.014350         0.046855   \n",
              "6      v2  conv3         0.134318        -0.118613         0.087072   \n",
              "7      v2  conv4         0.074217         0.025269        -0.050965   \n",
              "8      v3  conv1         0.161547        -0.071932        -0.153216   \n",
              "9      v3  conv2        -0.083671        -0.062212         0.034185   \n",
              "10     v3  conv3         0.041715        -0.084918         0.085648   \n",
              "11     v3  conv4         0.020962         0.004481        -0.119022   \n",
              "12     v4  conv1         0.207668        -0.016203        -0.150835   \n",
              "13     v4  conv2         0.007465        -0.007322        -0.005775   \n",
              "14     v4  conv3         0.125305         0.002282         0.031319   \n",
              "15     v4  conv4         0.089472         0.008256        -0.045418   \n",
              "\n",
              "    subj5_rdm_score  subj6_rdm_score  subj7_rdm_score  subj4_rdm_score  \\\n",
              "0          0.031053        -0.014009         0.151623         0.102377   \n",
              "1         -0.312925         0.101550         0.083062        -0.054842   \n",
              "2         -0.238670        -0.141318         0.021854         0.480314   \n",
              "3         -0.043401        -0.058174        -0.052108         0.223165   \n",
              "4          0.007975         0.007410         0.164984         0.132929   \n",
              "5         -0.312665         0.063209         0.097401         0.076488   \n",
              "6         -0.151564        -0.130425         0.040965         0.616859   \n",
              "7         -0.015741        -0.039389        -0.009985         0.404086   \n",
              "8         -0.242585         0.101786         0.098103        -0.140755   \n",
              "9         -0.415852         0.100770         0.083989        -0.210008   \n",
              "10        -0.354113        -0.014530         0.050564         0.221815   \n",
              "11        -0.093347        -0.049944        -0.050144        -0.010213   \n",
              "12        -0.125901         0.055326         0.078644        -0.322687   \n",
              "13        -0.344545         0.117169         0.050908         0.083344   \n",
              "14        -0.303866        -0.006776         0.028551         0.390257   \n",
              "15        -0.161024        -0.067568        -0.068799        -0.031687   \n",
              "\n",
              "    subj8_rdm_score       avg  \n",
              "0         -0.115993  0.020635  \n",
              "1         -0.042916 -0.033089  \n",
              "2          0.032313  0.040577  \n",
              "3         -0.009381  0.010044  \n",
              "4         -0.150299  0.023596  \n",
              "5          0.035176 -0.006215  \n",
              "6         -0.017726  0.057611  \n",
              "7          0.003121  0.048827  \n",
              "8         -0.074368 -0.040178  \n",
              "9         -0.004033 -0.069604  \n",
              "10        -0.027557 -0.010172  \n",
              "11         0.047872 -0.031169  \n",
              "12        -0.151910 -0.053237  \n",
              "13        -0.058872 -0.019704  \n",
              "14        -0.045114  0.027745  \n",
              "15         0.029119 -0.030956  "
            ],
            "text/html": [
              "\n",
              "  <div id=\"df-6fe843df-1150-4db1-ae43-8bcfa5c02351\">\n",
              "    <div class=\"colab-df-container\">\n",
              "      <div>\n",
              "<style scoped>\n",
              "    .dataframe tbody tr th:only-of-type {\n",
              "        vertical-align: middle;\n",
              "    }\n",
              "\n",
              "    .dataframe tbody tr th {\n",
              "        vertical-align: top;\n",
              "    }\n",
              "\n",
              "    .dataframe thead th {\n",
              "        text-align: right;\n",
              "    }\n",
              "</style>\n",
              "<table border=\"1\" class=\"dataframe\">\n",
              "  <thead>\n",
              "    <tr style=\"text-align: right;\">\n",
              "      <th></th>\n",
              "      <th>region</th>\n",
              "      <th>layer</th>\n",
              "      <th>subj1_rdm_score</th>\n",
              "      <th>subj2_rdm_score</th>\n",
              "      <th>subj3_rdm_score</th>\n",
              "      <th>subj5_rdm_score</th>\n",
              "      <th>subj6_rdm_score</th>\n",
              "      <th>subj7_rdm_score</th>\n",
              "      <th>subj4_rdm_score</th>\n",
              "      <th>subj8_rdm_score</th>\n",
              "      <th>avg</th>\n",
              "    </tr>\n",
              "  </thead>\n",
              "  <tbody>\n",
              "    <tr>\n",
              "      <th>0</th>\n",
              "      <td>v1</td>\n",
              "      <td>conv1</td>\n",
              "      <td>0.311771</td>\n",
              "      <td>-0.126675</td>\n",
              "      <td>-0.175067</td>\n",
              "      <td>0.031053</td>\n",
              "      <td>-0.014009</td>\n",
              "      <td>0.151623</td>\n",
              "      <td>0.102377</td>\n",
              "      <td>-0.115993</td>\n",
              "      <td>0.020635</td>\n",
              "    </tr>\n",
              "    <tr>\n",
              "      <th>1</th>\n",
              "      <td>v1</td>\n",
              "      <td>conv2</td>\n",
              "      <td>-0.070362</td>\n",
              "      <td>0.046552</td>\n",
              "      <td>-0.014834</td>\n",
              "      <td>-0.312925</td>\n",
              "      <td>0.101550</td>\n",
              "      <td>0.083062</td>\n",
              "      <td>-0.054842</td>\n",
              "      <td>-0.042916</td>\n",
              "      <td>-0.033089</td>\n",
              "    </tr>\n",
              "    <tr>\n",
              "      <th>2</th>\n",
              "      <td>v1</td>\n",
              "      <td>conv3</td>\n",
              "      <td>0.121381</td>\n",
              "      <td>-0.074245</td>\n",
              "      <td>0.122989</td>\n",
              "      <td>-0.238670</td>\n",
              "      <td>-0.141318</td>\n",
              "      <td>0.021854</td>\n",
              "      <td>0.480314</td>\n",
              "      <td>0.032313</td>\n",
              "      <td>0.040577</td>\n",
              "    </tr>\n",
              "    <tr>\n",
              "      <th>3</th>\n",
              "      <td>v1</td>\n",
              "      <td>conv4</td>\n",
              "      <td>0.021773</td>\n",
              "      <td>0.055425</td>\n",
              "      <td>-0.056948</td>\n",
              "      <td>-0.043401</td>\n",
              "      <td>-0.058174</td>\n",
              "      <td>-0.052108</td>\n",
              "      <td>0.223165</td>\n",
              "      <td>-0.009381</td>\n",
              "      <td>0.010044</td>\n",
              "    </tr>\n",
              "    <tr>\n",
              "      <th>4</th>\n",
              "      <td>v2</td>\n",
              "      <td>conv1</td>\n",
              "      <td>0.258415</td>\n",
              "      <td>-0.096434</td>\n",
              "      <td>-0.136211</td>\n",
              "      <td>0.007975</td>\n",
              "      <td>0.007410</td>\n",
              "      <td>0.164984</td>\n",
              "      <td>0.132929</td>\n",
              "      <td>-0.150299</td>\n",
              "      <td>0.023596</td>\n",
              "    </tr>\n",
              "    <tr>\n",
              "      <th>5</th>\n",
              "      <td>v2</td>\n",
              "      <td>conv2</td>\n",
              "      <td>-0.041830</td>\n",
              "      <td>-0.014350</td>\n",
              "      <td>0.046855</td>\n",
              "      <td>-0.312665</td>\n",
              "      <td>0.063209</td>\n",
              "      <td>0.097401</td>\n",
              "      <td>0.076488</td>\n",
              "      <td>0.035176</td>\n",
              "      <td>-0.006215</td>\n",
              "    </tr>\n",
              "    <tr>\n",
              "      <th>6</th>\n",
              "      <td>v2</td>\n",
              "      <td>conv3</td>\n",
              "      <td>0.134318</td>\n",
              "      <td>-0.118613</td>\n",
              "      <td>0.087072</td>\n",
              "      <td>-0.151564</td>\n",
              "      <td>-0.130425</td>\n",
              "      <td>0.040965</td>\n",
              "      <td>0.616859</td>\n",
              "      <td>-0.017726</td>\n",
              "      <td>0.057611</td>\n",
              "    </tr>\n",
              "    <tr>\n",
              "      <th>7</th>\n",
              "      <td>v2</td>\n",
              "      <td>conv4</td>\n",
              "      <td>0.074217</td>\n",
              "      <td>0.025269</td>\n",
              "      <td>-0.050965</td>\n",
              "      <td>-0.015741</td>\n",
              "      <td>-0.039389</td>\n",
              "      <td>-0.009985</td>\n",
              "      <td>0.404086</td>\n",
              "      <td>0.003121</td>\n",
              "      <td>0.048827</td>\n",
              "    </tr>\n",
              "    <tr>\n",
              "      <th>8</th>\n",
              "      <td>v3</td>\n",
              "      <td>conv1</td>\n",
              "      <td>0.161547</td>\n",
              "      <td>-0.071932</td>\n",
              "      <td>-0.153216</td>\n",
              "      <td>-0.242585</td>\n",
              "      <td>0.101786</td>\n",
              "      <td>0.098103</td>\n",
              "      <td>-0.140755</td>\n",
              "      <td>-0.074368</td>\n",
              "      <td>-0.040178</td>\n",
              "    </tr>\n",
              "    <tr>\n",
              "      <th>9</th>\n",
              "      <td>v3</td>\n",
              "      <td>conv2</td>\n",
              "      <td>-0.083671</td>\n",
              "      <td>-0.062212</td>\n",
              "      <td>0.034185</td>\n",
              "      <td>-0.415852</td>\n",
              "      <td>0.100770</td>\n",
              "      <td>0.083989</td>\n",
              "      <td>-0.210008</td>\n",
              "      <td>-0.004033</td>\n",
              "      <td>-0.069604</td>\n",
              "    </tr>\n",
              "    <tr>\n",
              "      <th>10</th>\n",
              "      <td>v3</td>\n",
              "      <td>conv3</td>\n",
              "      <td>0.041715</td>\n",
              "      <td>-0.084918</td>\n",
              "      <td>0.085648</td>\n",
              "      <td>-0.354113</td>\n",
              "      <td>-0.014530</td>\n",
              "      <td>0.050564</td>\n",
              "      <td>0.221815</td>\n",
              "      <td>-0.027557</td>\n",
              "      <td>-0.010172</td>\n",
              "    </tr>\n",
              "    <tr>\n",
              "      <th>11</th>\n",
              "      <td>v3</td>\n",
              "      <td>conv4</td>\n",
              "      <td>0.020962</td>\n",
              "      <td>0.004481</td>\n",
              "      <td>-0.119022</td>\n",
              "      <td>-0.093347</td>\n",
              "      <td>-0.049944</td>\n",
              "      <td>-0.050144</td>\n",
              "      <td>-0.010213</td>\n",
              "      <td>0.047872</td>\n",
              "      <td>-0.031169</td>\n",
              "    </tr>\n",
              "    <tr>\n",
              "      <th>12</th>\n",
              "      <td>v4</td>\n",
              "      <td>conv1</td>\n",
              "      <td>0.207668</td>\n",
              "      <td>-0.016203</td>\n",
              "      <td>-0.150835</td>\n",
              "      <td>-0.125901</td>\n",
              "      <td>0.055326</td>\n",
              "      <td>0.078644</td>\n",
              "      <td>-0.322687</td>\n",
              "      <td>-0.151910</td>\n",
              "      <td>-0.053237</td>\n",
              "    </tr>\n",
              "    <tr>\n",
              "      <th>13</th>\n",
              "      <td>v4</td>\n",
              "      <td>conv2</td>\n",
              "      <td>0.007465</td>\n",
              "      <td>-0.007322</td>\n",
              "      <td>-0.005775</td>\n",
              "      <td>-0.344545</td>\n",
              "      <td>0.117169</td>\n",
              "      <td>0.050908</td>\n",
              "      <td>0.083344</td>\n",
              "      <td>-0.058872</td>\n",
              "      <td>-0.019704</td>\n",
              "    </tr>\n",
              "    <tr>\n",
              "      <th>14</th>\n",
              "      <td>v4</td>\n",
              "      <td>conv3</td>\n",
              "      <td>0.125305</td>\n",
              "      <td>0.002282</td>\n",
              "      <td>0.031319</td>\n",
              "      <td>-0.303866</td>\n",
              "      <td>-0.006776</td>\n",
              "      <td>0.028551</td>\n",
              "      <td>0.390257</td>\n",
              "      <td>-0.045114</td>\n",
              "      <td>0.027745</td>\n",
              "    </tr>\n",
              "    <tr>\n",
              "      <th>15</th>\n",
              "      <td>v4</td>\n",
              "      <td>conv4</td>\n",
              "      <td>0.089472</td>\n",
              "      <td>0.008256</td>\n",
              "      <td>-0.045418</td>\n",
              "      <td>-0.161024</td>\n",
              "      <td>-0.067568</td>\n",
              "      <td>-0.068799</td>\n",
              "      <td>-0.031687</td>\n",
              "      <td>0.029119</td>\n",
              "      <td>-0.030956</td>\n",
              "    </tr>\n",
              "  </tbody>\n",
              "</table>\n",
              "</div>\n",
              "      <button class=\"colab-df-convert\" onclick=\"convertToInteractive('df-6fe843df-1150-4db1-ae43-8bcfa5c02351')\"\n",
              "              title=\"Convert this dataframe to an interactive table.\"\n",
              "              style=\"display:none;\">\n",
              "        \n",
              "  <svg xmlns=\"http://www.w3.org/2000/svg\" height=\"24px\"viewBox=\"0 0 24 24\"\n",
              "       width=\"24px\">\n",
              "    <path d=\"M0 0h24v24H0V0z\" fill=\"none\"/>\n",
              "    <path d=\"M18.56 5.44l.94 2.06.94-2.06 2.06-.94-2.06-.94-.94-2.06-.94 2.06-2.06.94zm-11 1L8.5 8.5l.94-2.06 2.06-.94-2.06-.94L8.5 2.5l-.94 2.06-2.06.94zm10 10l.94 2.06.94-2.06 2.06-.94-2.06-.94-.94-2.06-.94 2.06-2.06.94z\"/><path d=\"M17.41 7.96l-1.37-1.37c-.4-.4-.92-.59-1.43-.59-.52 0-1.04.2-1.43.59L10.3 9.45l-7.72 7.72c-.78.78-.78 2.05 0 2.83L4 21.41c.39.39.9.59 1.41.59.51 0 1.02-.2 1.41-.59l7.78-7.78 2.81-2.81c.8-.78.8-2.07 0-2.86zM5.41 20L4 18.59l7.72-7.72 1.47 1.35L5.41 20z\"/>\n",
              "  </svg>\n",
              "      </button>\n",
              "      \n",
              "  <style>\n",
              "    .colab-df-container {\n",
              "      display:flex;\n",
              "      flex-wrap:wrap;\n",
              "      gap: 12px;\n",
              "    }\n",
              "\n",
              "    .colab-df-convert {\n",
              "      background-color: #E8F0FE;\n",
              "      border: none;\n",
              "      border-radius: 50%;\n",
              "      cursor: pointer;\n",
              "      display: none;\n",
              "      fill: #1967D2;\n",
              "      height: 32px;\n",
              "      padding: 0 0 0 0;\n",
              "      width: 32px;\n",
              "    }\n",
              "\n",
              "    .colab-df-convert:hover {\n",
              "      background-color: #E2EBFA;\n",
              "      box-shadow: 0px 1px 2px rgba(60, 64, 67, 0.3), 0px 1px 3px 1px rgba(60, 64, 67, 0.15);\n",
              "      fill: #174EA6;\n",
              "    }\n",
              "\n",
              "    [theme=dark] .colab-df-convert {\n",
              "      background-color: #3B4455;\n",
              "      fill: #D2E3FC;\n",
              "    }\n",
              "\n",
              "    [theme=dark] .colab-df-convert:hover {\n",
              "      background-color: #434B5C;\n",
              "      box-shadow: 0px 1px 3px 1px rgba(0, 0, 0, 0.15);\n",
              "      filter: drop-shadow(0px 1px 2px rgba(0, 0, 0, 0.3));\n",
              "      fill: #FFFFFF;\n",
              "    }\n",
              "  </style>\n",
              "\n",
              "      <script>\n",
              "        const buttonEl =\n",
              "          document.querySelector('#df-6fe843df-1150-4db1-ae43-8bcfa5c02351 button.colab-df-convert');\n",
              "        buttonEl.style.display =\n",
              "          google.colab.kernel.accessAllowed ? 'block' : 'none';\n",
              "\n",
              "        async function convertToInteractive(key) {\n",
              "          const element = document.querySelector('#df-6fe843df-1150-4db1-ae43-8bcfa5c02351');\n",
              "          const dataTable =\n",
              "            await google.colab.kernel.invokeFunction('convertToInteractive',\n",
              "                                                     [key], {});\n",
              "          if (!dataTable) return;\n",
              "\n",
              "          const docLinkHtml = 'Like what you see? Visit the ' +\n",
              "            '<a target=\"_blank\" href=https://colab.research.google.com/notebooks/data_table.ipynb>data table notebook</a>'\n",
              "            + ' to learn more about interactive tables.';\n",
              "          element.innerHTML = '';\n",
              "          dataTable['output_type'] = 'display_data';\n",
              "          await google.colab.output.renderOutput(dataTable, element);\n",
              "          const docLink = document.createElement('div');\n",
              "          docLink.innerHTML = docLinkHtml;\n",
              "          element.appendChild(docLink);\n",
              "        }\n",
              "      </script>\n",
              "    </div>\n",
              "  </div>\n",
              "  "
            ]
          },
          "metadata": {},
          "execution_count": 24
        }
      ]
    }
  ],
  "metadata": {
    "colab": {
      "collapsed_sections": [
        "8OgQ2z3gUbK9"
      ],
      "machine_shape": "hm",
      "provenance": []
    },
    "gpuClass": "standard",
    "kernelspec": {
      "display_name": "Python 3",
      "name": "python3"
    },
    "language_info": {
      "name": "python"
    }
  },
  "nbformat": 4,
  "nbformat_minor": 0
}